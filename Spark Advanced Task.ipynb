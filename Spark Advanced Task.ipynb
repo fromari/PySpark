{
 "cells": [
  {
   "cell_type": "markdown",
   "id": "eed4c78b-ff4b-4502-b934-954980404ed0",
   "metadata": {},
   "source": [
    "## Evaluation Assignment"
   ]
  },
  {
   "cell_type": "markdown",
   "id": "8249acc2-20d7-41e4-9a91-869d9b004be2",
   "metadata": {},
   "source": [
    "Data: outbrain click prediction\n",
    "\n",
    "Tasks:\n",
    "Using Spark RDD, DataFrame API and Python, calculate:\n",
    "\n",
    "**1**. Top 10 most visited document_ids in the page_views_sample log\n",
    "\n",
    "**2**. How many users have at least 2 different traffic_sources in the page_views_sample log (note the value is not a count, it's an encoded enum)\n",
    "\n",
    "**3***. Top 10 most visited topic_ids in page_views_sample log (use documents_topics table)"
   ]
  },
  {
   "cell_type": "markdown",
   "id": "9ecd65c2-c139-430f-9010-42a94ef6c0b1",
   "metadata": {},
   "source": [
    "The submission format is the result.json json file with top_10_documents, users and top_10_topics keys.\n",
    "For TOP-10 results, the answer must be written in the form of a sheet ordered from TOP-1 to TOP-10 with an id.\n",
    "\n",
    "result.json example:\n",
    "\n",
    "    {\n",
    "        \"top_10_documents\": [\n",
    "            111,\n",
    "            222,\n",
    "            333,\n",
    "            ...,\n",
    "            1010\n",
    "        ],\n",
    "        \"users\": 10000,\n",
    "        \"top_10_topics\": [\n",
    "            11,\n",
    "            22,\n",
    "            33,\n",
    "            ...,\n",
    "            101\n",
    "        ]\n",
    "    }"
   ]
  },
  {
   "cell_type": "code",
   "execution_count": 9,
   "id": "237d698a-bd7d-473b-8e0d-a3c608ad08d8",
   "metadata": {
    "tags": []
   },
   "outputs": [
    {
     "name": "stdout",
     "output_type": "stream",
     "text": [
      "jovyan\n",
      " * Starting OpenBSD Secure Shell server sshd\n",
      "start-stop-daemon: unable to set gid to 0 (Operation not permitted)\n",
      "   ...fail!\n",
      " * sshd is running\n",
      "Starting namenodes on [localhost]\n",
      "localhost: Warning: Permanently added 'localhost' (ED25519) to the list of known hosts.\n",
      "Starting datanodes\n",
      "localhost: Warning: Permanently added 'localhost' (ED25519) to the list of known hosts.\n",
      "Starting secondary namenodes [8a8dc2b1f3c1]\n",
      "8a8dc2b1f3c1: Warning: Permanently added '8a8dc2b1f3c1' (ED25519) to the list of known hosts.\n",
      "Starting resourcemanager\n",
      "Starting nodemanagers\n",
      "localhost: Warning: Permanently added 'localhost' (ED25519) to the list of known hosts.\n",
      "WARNING: Use of this script to start the MR JobHistory daemon is deprecated.\n",
      "WARNING: Attempting to execute replacement \"mapred --daemon start\" instead.\n",
      "30721 org.apache.hadoop.mapreduce.v2.hs.JobHistoryServer\n",
      "27267 org.apache.spark.deploy.SparkSubmit pyspark-shell\n",
      "27977 org.apache.spark.executor.YarnCoarseGrainedExecutorBackend --driver-url spark://CoarseGrainedScheduler@8a8dc2b1f3c1:43533 --executor-id 2 --hostname 8a8dc2b1f3c1 --cores 1 --app-id application_1680975987671_0005 --resourceProfileId 0 --user-class-path file:/tmp/hadoop-jovyan/nm-local-dir/usercache/jovyan/appcache/application_1680975987671_0005/container_1680975987671_0005_01_000003/__app__.jar\n",
      "28793 org.apache.spark.deploy.SparkSubmit pyspark-shell\n",
      "30810 sun.tools.jps.Jps -lm\n",
      "27626 org.apache.spark.deploy.yarn.ExecutorLauncher --arg 8a8dc2b1f3c1:43533 --properties-file /tmp/hadoop-jovyan/nm-local-dir/usercache/jovyan/appcache/application_1680975987671_0005/container_1680975987671_0005_01_000001/__spark_conf__/__spark_conf__.properties --dist-cache-conf /tmp/hadoop-jovyan/nm-local-dir/usercache/jovyan/appcache/application_1680975987671_0005/container_1680975987671_0005_01_000001/__spark_conf__/__spark_dist_cache__.properties\n",
      "27932 org.apache.spark.executor.YarnCoarseGrainedExecutorBackend --driver-url spark://CoarseGrainedScheduler@8a8dc2b1f3c1:43533 --executor-id 1 --hostname 8a8dc2b1f3c1 --cores 1 --app-id application_1680975987671_0005 --resourceProfileId 0 --user-class-path file:/tmp/hadoop-jovyan/nm-local-dir/usercache/jovyan/appcache/application_1680975987671_0005/container_1680975987671_0005_01_000002/__app__.jar\n",
      "30590 org.apache.hadoop.yarn.server.nodemanager.NodeManager\n",
      "Configured Capacity: 211271204864 (196.76 GB)\n",
      "Present Capacity: 172482007040 (160.64 GB)\n",
      "DFS Remaining: 170538786816 (158.83 GB)\n",
      "DFS Used: 1943220224 (1.81 GB)\n",
      "DFS Used%: 1.13%\n",
      "Replicated Blocks:\n",
      "\tUnder replicated blocks: 0\n",
      "\tBlocks with corrupt replicas: 0\n",
      "\tMissing blocks: 0\n",
      "\tMissing blocks (with replication factor 1): 0\n",
      "\tLow redundancy blocks with highest priority to recover: 0\n",
      "\tPending deletion blocks: 0\n",
      "Erasure Coded Block Groups: \n",
      "\tLow redundancy block groups: 0\n",
      "\tBlock groups with corrupt internal blocks: 0\n",
      "\tMissing block groups: 0\n",
      "\tLow redundancy blocks with highest priority to recover: 0\n",
      "\tPending deletion blocks: 0\n",
      "\n",
      "-------------------------------------------------\n",
      "Live datanodes (1):\n",
      "\n",
      "Name: 127.0.0.1:9866 (localhost)\n",
      "Hostname: 8a8dc2b1f3c1\n",
      "Decommission Status : Normal\n",
      "Configured Capacity: 211271204864 (196.76 GB)\n",
      "DFS Used: 1943220224 (1.81 GB)\n",
      "Non DFS Used: 30129254400 (28.06 GB)\n",
      "DFS Remaining: 170538786816 (158.83 GB)\n",
      "DFS Used%: 0.92%\n",
      "DFS Remaining%: 80.72%\n",
      "Configured Cache Capacity: 0 (0 B)\n",
      "Cache Used: 0 (0 B)\n",
      "Cache Remaining: 0 (0 B)\n",
      "Cache Used%: 100.00%\n",
      "Cache Remaining%: 0.00%\n",
      "Xceivers: 0\n",
      "Last contact: Sat Apr 08 19:26:49 UTC 2023\n",
      "Last Block Report: Sat Apr 08 18:33:37 UTC 2023\n",
      "Num of Blocks: 134\n",
      "\n",
      "\n",
      "chmod: changing permissions of '/home/jovyan/jupyter.log': Operation not permitted\n",
      "chmod: changing permissions of '/home/jovyan/nginx.log': Operation not permitted\n",
      "chmod: changing permissions of '/home/jovyan/error.log': Operation not permitted\n",
      "chmod: changing permissions of '/home/jovyan/access.log': Operation not permitted\n"
     ]
    }
   ],
   "source": [
    "! /home/jovyan/start-hadoop.sh"
   ]
  },
  {
   "cell_type": "code",
   "execution_count": 2,
   "id": "aa4fb7d9-22a8-4788-b18a-d76557500624",
   "metadata": {
    "tags": []
   },
   "outputs": [
    {
     "name": "stderr",
     "output_type": "stream",
     "text": [
      "Setting default log level to \"WARN\".\n",
      "To adjust logging level use sc.setLogLevel(newLevel). For SparkR, use setLogLevel(newLevel).\n",
      "2023-04-08 20:05:27,202 WARN yarn.Client: Neither spark.yarn.jars nor spark.yarn.archive is set, falling back to uploading libraries under SPARK_HOME.\n"
     ]
    }
   ],
   "source": [
    "import findspark\n",
    "findspark.init()\n",
    "\n",
    "import pyspark\n",
    "sc = pyspark.SparkContext(appName='jupyter')\n",
    "\n",
    "from pyspark.sql import SparkSession, Row\n",
    "se = SparkSession(sc)"
   ]
  },
  {
   "cell_type": "code",
   "execution_count": 11,
   "id": "5d3a68d8-88d2-4679-bc0e-7853cd48351c",
   "metadata": {
    "tags": []
   },
   "outputs": [
    {
     "name": "stdout",
     "output_type": "stream",
     "text": [
      "Requirement already satisfied: kaggle in /opt/conda/lib/python3.10/site-packages (1.5.3)\n",
      "Collecting kaggle\n",
      "  Using cached kaggle-1.5.13-py3-none-any.whl\n",
      "Requirement already satisfied: urllib3 in /opt/conda/lib/python3.10/site-packages (from kaggle) (1.24.3)\n",
      "Requirement already satisfied: python-dateutil in /opt/conda/lib/python3.10/site-packages (from kaggle) (2.8.2)\n",
      "Requirement already satisfied: requests in /opt/conda/lib/python3.10/site-packages (from kaggle) (2.28.2)\n",
      "Requirement already satisfied: python-slugify in /opt/conda/lib/python3.10/site-packages (from kaggle) (8.0.1)\n",
      "Requirement already satisfied: six>=1.10 in /opt/conda/lib/python3.10/site-packages (from kaggle) (1.16.0)\n",
      "Requirement already satisfied: tqdm in /opt/conda/lib/python3.10/site-packages (from kaggle) (4.65.0)\n",
      "Requirement already satisfied: certifi in /opt/conda/lib/python3.10/site-packages (from kaggle) (2022.12.7)\n",
      "Requirement already satisfied: text-unidecode>=1.3 in /opt/conda/lib/python3.10/site-packages (from python-slugify->kaggle) (1.3)\n",
      "Requirement already satisfied: charset-normalizer<4,>=2 in /opt/conda/lib/python3.10/site-packages (from requests->kaggle) (2.1.1)\n",
      "Requirement already satisfied: idna<4,>=2.5 in /opt/conda/lib/python3.10/site-packages (from requests->kaggle) (3.4)\n",
      "Installing collected packages: kaggle\n",
      "  Attempting uninstall: kaggle\n",
      "    Found existing installation: kaggle 1.5.3\n",
      "    Uninstalling kaggle-1.5.3:\n",
      "      Successfully uninstalled kaggle-1.5.3\n",
      "Successfully installed kaggle-1.5.13\n"
     ]
    }
   ],
   "source": [
    "!pip install kaggle --upgrade"
   ]
  },
  {
   "cell_type": "code",
   "execution_count": 3,
   "id": "3d39502c-6dd7-4fc8-b620-60caa072427f",
   "metadata": {
    "tags": []
   },
   "outputs": [],
   "source": [
    "! mkdir -p ~/.kaggle"
   ]
  },
  {
   "cell_type": "code",
   "execution_count": 13,
   "id": "b14284d4-4ada-4bdb-8a28-c51b871bbebc",
   "metadata": {
    "tags": []
   },
   "outputs": [
    {
     "name": "stdout",
     "output_type": "stream",
     "text": [
      "Overwriting /home/jovyan/.kaggle/kaggle.json\n"
     ]
    }
   ],
   "source": [
    "%%writefile ~/.kaggle/kaggle.json\n",
    "{\"username\":\"mariafrolkina\",\"key\":\"e9c8b62128ac29fc8bf06198f5b9d752\"}"
   ]
  },
  {
   "cell_type": "code",
   "execution_count": 14,
   "id": "508f85b6-4be5-4008-8a2c-4095acdecdf6",
   "metadata": {
    "tags": []
   },
   "outputs": [],
   "source": [
    "! chmod 600 ~/.kaggle/kaggle.json"
   ]
  },
  {
   "cell_type": "code",
   "execution_count": 15,
   "id": "264de9d5-2dc6-411c-a6cc-ec36fc317379",
   "metadata": {
    "tags": []
   },
   "outputs": [
    {
     "name": "stdout",
     "output_type": "stream",
     "text": [
      "Requirement already satisfied: urllib3 in /opt/conda/lib/python3.10/site-packages (1.24.3)\n",
      "Collecting urllib3\n",
      "  Using cached urllib3-1.26.15-py2.py3-none-any.whl (140 kB)\n",
      "Collecting kaggle==1.5.3\n",
      "  Using cached kaggle-1.5.3-py3-none-any.whl\n",
      "Requirement already satisfied: six>=1.10 in /opt/conda/lib/python3.10/site-packages (from kaggle==1.5.3) (1.16.0)\n",
      "Requirement already satisfied: certifi in /opt/conda/lib/python3.10/site-packages (from kaggle==1.5.3) (2022.12.7)\n",
      "Requirement already satisfied: tqdm in /opt/conda/lib/python3.10/site-packages (from kaggle==1.5.3) (4.65.0)\n",
      "Requirement already satisfied: requests in /opt/conda/lib/python3.10/site-packages (from kaggle==1.5.3) (2.28.2)\n",
      "Requirement already satisfied: python-slugify in /opt/conda/lib/python3.10/site-packages (from kaggle==1.5.3) (8.0.1)\n",
      "Requirement already satisfied: python-dateutil in /opt/conda/lib/python3.10/site-packages (from kaggle==1.5.3) (2.8.2)\n",
      "Requirement already satisfied: text-unidecode>=1.3 in /opt/conda/lib/python3.10/site-packages (from python-slugify->kaggle==1.5.3) (1.3)\n",
      "Requirement already satisfied: idna<4,>=2.5 in /opt/conda/lib/python3.10/site-packages (from requests->kaggle==1.5.3) (3.4)\n",
      "Requirement already satisfied: charset-normalizer<4,>=2 in /opt/conda/lib/python3.10/site-packages (from requests->kaggle==1.5.3) (2.1.1)\n",
      "Installing collected packages: kaggle\n",
      "  Attempting uninstall: kaggle\n",
      "    Found existing installation: kaggle 1.5.13\n",
      "    Uninstalling kaggle-1.5.13:\n",
      "      Successfully uninstalled kaggle-1.5.13\n",
      "Successfully installed kaggle-1.5.3\n",
      "Downloading page_views_sample.csv.zip to /home/jovyan/work\n",
      "100%|███████████████████████████████████████▊| 148M/149M [00:05<00:00, 33.4MB/s]\n",
      "100%|████████████████████████████████████████| 149M/149M [00:05<00:00, 28.5MB/s]\n",
      "Downloading documents_topics.csv.zip to /home/jovyan/work\n",
      " 98%|███████████████████████████████████████ | 118M/121M [00:10<00:01, 2.00MB/s]\n",
      "100%|████████████████████████████████████████| 121M/121M [00:10<00:00, 12.6MB/s]\n"
     ]
    }
   ],
   "source": [
    "! pip install -U urllib3 kaggle==1.5.3\n",
    "! kaggle competitions download -c outbrain-click-prediction -f page_views_sample.csv.zip\n",
    "! kaggle competitions download -c outbrain-click-prediction -f documents_topics.csv.zip "
   ]
  },
  {
   "cell_type": "code",
   "execution_count": 16,
   "id": "920df30c-6099-44af-82b8-3213b6caee94",
   "metadata": {
    "tags": []
   },
   "outputs": [
    {
     "name": "stdout",
     "output_type": "stream",
     "text": [
      "Archive:  documents_topics.csv.zip\n",
      "replace documents_topics.csv? [y]es, [n]o, [A]ll, [N]one, [r]ename: ^C\n"
     ]
    }
   ],
   "source": [
    "! unzip '*.zip'\n",
    "! rm -rf *.zip"
   ]
  },
  {
   "cell_type": "code",
   "execution_count": 19,
   "id": "2e0b4772-e9e4-47bb-9d41-da59af806ddb",
   "metadata": {
    "tags": []
   },
   "outputs": [
    {
     "name": "stdout",
     "output_type": "stream",
     "text": [
      "put: `page_views_sample.csv': File exists\n",
      "put: `documents_topics.csv': File exists\n"
     ]
    }
   ],
   "source": [
    "! hdfs dfs -put page_views_sample.csv\n",
    "! hdfs dfs -put documents_topics.csv"
   ]
  },
  {
   "cell_type": "code",
   "execution_count": 4,
   "id": "95d086ba-3bf7-4170-9b64-c4a78e53f39b",
   "metadata": {
    "tags": []
   },
   "outputs": [
    {
     "name": "stdout",
     "output_type": "stream",
     "text": [
      "Found 3 items\n",
      "drwxr-xr-x   - jovyan supergroup          0 2023-04-08 20:05 .sparkStaging\n",
      "-rw-r--r--   1 jovyan supergroup    323.7 M 2023-04-08 18:37 documents_topics.csv\n",
      "-rw-r--r--   1 jovyan supergroup    433.3 M 2023-04-08 18:36 page_views_sample.csv\n"
     ]
    }
   ],
   "source": [
    "! hadoop fs -ls -h"
   ]
  },
  {
   "cell_type": "code",
   "execution_count": 8,
   "id": "f6a94bba-3153-4892-a2f0-8416f8e7121b",
   "metadata": {},
   "outputs": [
    {
     "name": "stdout",
     "output_type": "stream",
     "text": [
      "+--------------+-----------+---------+--------+------------+--------------+\n",
      "|          uuid|document_id|timestamp|platform|geo_location|traffic_source|\n",
      "+--------------+-----------+---------+--------+------------+--------------+\n",
      "|1fd5f051fba643|        120| 31905835|       1|          RS|             2|\n",
      "|8557aa9004be3b|        120| 32053104|       1|       VN>44|             2|\n",
      "|c351b277a358f0|        120| 54013023|       1|       KR>12|             1|\n",
      "|8205775c5387f9|        120| 44196592|       1|       IN>16|             2|\n",
      "|9cb0ccd8458371|        120| 65817371|       1|   US>CA>807|             2|\n",
      "+--------------+-----------+---------+--------+------------+--------------+\n",
      "only showing top 5 rows\n",
      "\n"
     ]
    }
   ],
   "source": [
    "page_views_sample = se.read.csv(\"page_views_sample.csv\", header=True)\n",
    "page_views_sample.show(5)"
   ]
  },
  {
   "cell_type": "code",
   "execution_count": 9,
   "id": "fc600b96-96dc-4c1a-afad-cbf5093a32a1",
   "metadata": {
    "tags": []
   },
   "outputs": [
    {
     "name": "stderr",
     "output_type": "stream",
     "text": [
      "                                                                                \r"
     ]
    },
    {
     "name": "stdout",
     "output_type": "stream",
     "text": [
      "+-----------+--------+------------------+\n",
      "|document_id|topic_id|  confidence_level|\n",
      "+-----------+--------+------------------+\n",
      "|    1595802|     140|0.0731131601068925|\n",
      "|    1595802|      16|0.0594164867373976|\n",
      "|    1595802|     143|0.0454207537554526|\n",
      "|    1595802|     170|0.0388674285182961|\n",
      "|    1524246|     113| 0.196450402209685|\n",
      "+-----------+--------+------------------+\n",
      "only showing top 5 rows\n",
      "\n"
     ]
    }
   ],
   "source": [
    "documents_topics = se.read.csv(\"documents_topics.csv\", header=True)\n",
    "documents_topics.show(5)"
   ]
  },
  {
   "cell_type": "markdown",
   "id": "7f108fa1-30ec-4ba0-8a61-83ef9cd7a61d",
   "metadata": {},
   "source": [
    "**1. Top 10 most visited document_ids in the page_views_sample log**"
   ]
  },
  {
   "cell_type": "code",
   "execution_count": 39,
   "id": "e59a2724-aae7-4f59-9933-62dabf2258bc",
   "metadata": {
    "tags": []
   },
   "outputs": [],
   "source": [
    "from pyspark.sql.functions import col\n",
    "\n",
    "top_10_documents = page_views_sample.groupBy(\"document_id\") \\\n",
    "                  .count() \\\n",
    "                  .sort(col(\"count\").desc()) \\\n",
    "                  .limit(10)"
   ]
  },
  {
   "cell_type": "code",
   "execution_count": 40,
   "id": "f548d2bb-96e0-423b-8347-00df2f942526",
   "metadata": {
    "tags": []
   },
   "outputs": [
    {
     "name": "stderr",
     "output_type": "stream",
     "text": [
      "[Stage 62:======================================================> (31 + 1) / 32]\r"
     ]
    },
    {
     "name": "stdout",
     "output_type": "stream",
     "text": [
      "+-----------+------+\n",
      "|document_id| count|\n",
      "+-----------+------+\n",
      "|    1811567|429551|\n",
      "|        234|179692|\n",
      "|      42744|156231|\n",
      "|    1858440|112140|\n",
      "|    1780813|109624|\n",
      "|      60164|104941|\n",
      "|    1790442| 91420|\n",
      "|    1877626| 80309|\n",
      "|    1821895| 79956|\n",
      "|     732651| 74630|\n",
      "+-----------+------+\n",
      "\n"
     ]
    },
    {
     "name": "stderr",
     "output_type": "stream",
     "text": [
      "                                                                                \r"
     ]
    }
   ],
   "source": [
    "top_10_documents.show()"
   ]
  },
  {
   "cell_type": "code",
   "execution_count": 41,
   "id": "b3cec70e-7c3e-491c-91d8-03230257be82",
   "metadata": {
    "tags": []
   },
   "outputs": [
    {
     "name": "stderr",
     "output_type": "stream",
     "text": [
      "                                                                                \r"
     ]
    }
   ],
   "source": [
    "top_10_documents_list = [int(row['document_id']) for row in top_10_documents.collect()]"
   ]
  },
  {
   "cell_type": "markdown",
   "id": "414de0d3-7635-41b1-b1a5-8e2e1bf5b16a",
   "metadata": {
    "tags": []
   },
   "source": [
    "**2. How many users have at least 2 different traffic_sources in the page_views_sample log (note the value is not a count, it's an encoded enum)**"
   ]
  },
  {
   "cell_type": "code",
   "execution_count": 24,
   "id": "94ce6640-83aa-48ad-9f23-5898afecf258",
   "metadata": {
    "tags": []
   },
   "outputs": [
    {
     "name": "stderr",
     "output_type": "stream",
     "text": [
      "                                                                                \r"
     ]
    },
    {
     "data": {
      "text/plain": [
       "9999999"
      ]
     },
     "execution_count": 24,
     "metadata": {},
     "output_type": "execute_result"
    }
   ],
   "source": [
    "# number of records\n",
    "\n",
    "page_views_sample.count()"
   ]
  },
  {
   "cell_type": "code",
   "execution_count": 25,
   "id": "4e08b4c6-f044-46d2-870c-1905b0f76c15",
   "metadata": {
    "tags": []
   },
   "outputs": [
    {
     "name": "stderr",
     "output_type": "stream",
     "text": [
      "                                                                                \r"
     ]
    },
    {
     "data": {
      "text/plain": [
       "9202149"
      ]
     },
     "execution_count": 25,
     "metadata": {},
     "output_type": "execute_result"
    }
   ],
   "source": [
    "# number of unique users\n",
    "\n",
    "page_views_sample.select(\"uuid\").distinct().count()"
   ]
  },
  {
   "cell_type": "code",
   "execution_count": 27,
   "id": "29c451ff-bb55-4870-89e0-f5222dd160f0",
   "metadata": {
    "tags": []
   },
   "outputs": [
    {
     "name": "stderr",
     "output_type": "stream",
     "text": [
      "                                                                                \r"
     ]
    }
   ],
   "source": [
    "import pyspark.sql.functions as f\n",
    "\n",
    "users_min2_traffic_sources = page_views_sample.groupBy(\"uuid\") \\\n",
    "                            .agg(f.countDistinct(\"traffic_source\") \\\n",
    "                            .alias(\"distinct_traffic_sources\")) \\\n",
    "                            .filter(\"distinct_traffic_sources > 1\") \\\n",
    "                            .count()"
   ]
  },
  {
   "cell_type": "code",
   "execution_count": 28,
   "id": "71752190-1793-40ad-82cb-272e2719a04f",
   "metadata": {
    "tags": []
   },
   "outputs": [
    {
     "data": {
      "text/plain": [
       "98080"
      ]
     },
     "execution_count": 28,
     "metadata": {},
     "output_type": "execute_result"
    }
   ],
   "source": [
    "users_min2_traffic_sources"
   ]
  },
  {
   "cell_type": "markdown",
   "id": "122cac2f-27c4-4098-8090-60420ec32177",
   "metadata": {},
   "source": [
    "**3. Top 10 most visited topic_ids in page_views_sample log (use documents_topics table)**"
   ]
  },
  {
   "cell_type": "code",
   "execution_count": 30,
   "id": "b3a02137-0ecc-4da8-8960-5fe74a55923f",
   "metadata": {
    "tags": []
   },
   "outputs": [],
   "source": [
    "# joining two logs\n",
    "\n",
    "joined = documents_topics.join(page_views_sample, \"document_id\", \"inner\")"
   ]
  },
  {
   "cell_type": "code",
   "execution_count": 42,
   "id": "5dd02a72-dc70-4d96-836e-4d181a4accbe",
   "metadata": {
    "tags": []
   },
   "outputs": [],
   "source": [
    "top_10_topic_ids = joined.groupBy(\"topic_id\") \\\n",
    "                  .count() \\\n",
    "                  .sort(col(\"count\").desc()) \\\n",
    "                  .limit(10)"
   ]
  },
  {
   "cell_type": "code",
   "execution_count": 43,
   "id": "fee9e0cd-16f7-40dd-bcff-d522e00ce99e",
   "metadata": {
    "tags": []
   },
   "outputs": [
    {
     "name": "stderr",
     "output_type": "stream",
     "text": [
      "[Stage 72:======================================================> (33 + 1) / 34]\r"
     ]
    },
    {
     "name": "stdout",
     "output_type": "stream",
     "text": [
      "+--------+-------+\n",
      "|topic_id|  count|\n",
      "+--------+-------+\n",
      "|      20|1429253|\n",
      "|      16|1425838|\n",
      "|     216|1160563|\n",
      "|     136|1099382|\n",
      "|     140| 971983|\n",
      "|     143| 919136|\n",
      "|      36| 855793|\n",
      "|      97| 839328|\n",
      "|       8| 819599|\n",
      "|     269| 727145|\n",
      "+--------+-------+\n",
      "\n"
     ]
    },
    {
     "name": "stderr",
     "output_type": "stream",
     "text": [
      "                                                                                \r"
     ]
    }
   ],
   "source": [
    "top_10_topic_ids.show()"
   ]
  },
  {
   "cell_type": "code",
   "execution_count": 44,
   "id": "761f989c-5f37-4fb0-a8de-89b45500dc04",
   "metadata": {
    "tags": []
   },
   "outputs": [
    {
     "name": "stderr",
     "output_type": "stream",
     "text": [
      "                                                                                \r"
     ]
    }
   ],
   "source": [
    "top_10_topic_ids_list = [int(row['topic_id']) for row in top_10_topic_ids.collect()]"
   ]
  },
  {
   "cell_type": "code",
   "execution_count": 45,
   "id": "1c4911af-91e2-4e78-a61d-d182525c00be",
   "metadata": {
    "tags": []
   },
   "outputs": [],
   "source": [
    "# saving the file with answers\n",
    "\n",
    "import json\n",
    "\n",
    "result = {\n",
    "        \"top_10_documents\": top_10_documents_list,\n",
    "        \"users\": users_min2_traffic_sources,\n",
    "        \"top_10_topics\": top_10_topic_ids_list\n",
    "}\n",
    "\n",
    "with open(\"result.json\", \"w\") as f:\n",
    "    json.dump(result, f)"
   ]
  },
  {
   "cell_type": "code",
   "execution_count": 46,
   "id": "3e8973dc-d8ff-45d4-83eb-c663f84afbd3",
   "metadata": {},
   "outputs": [
    {
     "data": {
      "text/plain": [
       "{'top_10_documents': [1811567,\n",
       "  234,\n",
       "  42744,\n",
       "  1858440,\n",
       "  1780813,\n",
       "  60164,\n",
       "  1790442,\n",
       "  1877626,\n",
       "  1821895,\n",
       "  732651],\n",
       " 'users': 98080,\n",
       " 'top_10_topics': [20, 16, 216, 136, 140, 143, 36, 97, 8, 269]}"
      ]
     },
     "execution_count": 46,
     "metadata": {},
     "output_type": "execute_result"
    }
   ],
   "source": [
    "result"
   ]
  },
  {
   "cell_type": "code",
   "execution_count": 47,
   "id": "adc8364e-1e28-49cf-b505-e83f0463d311",
   "metadata": {
    "tags": []
   },
   "outputs": [
    {
     "name": "stdout",
     "output_type": "stream",
     "text": [
      "1.0\n",
      "Well done!\n"
     ]
    }
   ],
   "source": [
    "!curl -F file=@result.json \"51.250.54.133:80/MDS-LSML1/airam01000110/w4/1\""
   ]
  },
  {
   "cell_type": "code",
   "execution_count": null,
   "id": "d48175f7-6d21-4866-b842-d66b293b51d2",
   "metadata": {},
   "outputs": [],
   "source": []
  }
 ],
 "metadata": {
  "kernelspec": {
   "display_name": "Python 3 (ipykernel)",
   "language": "python",
   "name": "python3"
  },
  "language_info": {
   "codemirror_mode": {
    "name": "ipython",
    "version": 3
   },
   "file_extension": ".py",
   "mimetype": "text/x-python",
   "name": "python",
   "nbconvert_exporter": "python",
   "pygments_lexer": "ipython3",
   "version": "3.10.9"
  }
 },
 "nbformat": 4,
 "nbformat_minor": 5
}
